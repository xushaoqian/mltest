{
 "cells": [
  {
   "cell_type": "code",
   "execution_count": 2,
   "metadata": {
    "scrolled": true
   },
   "outputs": [
    {
     "name": "stdout",
     "output_type": "stream",
     "text": [
      "[[1.00000000e+00]\n",
      " [0.00000000e+00]\n",
      " [1.00000000e+00]\n",
      " [1.11022302e-16]]\n"
     ]
    }
   ],
   "source": [
    "import numpy as np \n",
    "\n",
    "X = np.array([ [0,1],[1,1],[1,0],[0,0]])\n",
    "y = np.array([[1,0,1,0]]).T\n",
    "syn0 = 2*np.random.random((2,10)) - 1\n",
    "syn1 = 2*np.random.random((11,10)) - 1\n",
    "syn2 = 2*np.random.random((11,10)) - 1\n",
    "syn3 = 2*np.random.random((11,1)) - 1\n",
    "\n",
    "b = np.ones(4)\n",
    "\n",
    "for j in range(10000):\n",
    "    l1 = 1/(1+np.exp(-(np.dot(X,syn0))))\n",
    "    l11 = np.column_stack((l1,b))\n",
    "    \n",
    "    l2 = 1/(1+np.exp(-(np.dot(l11,syn1))))\n",
    "    l22= np.column_stack((l2,b))\n",
    "    \n",
    "    l3 = 1/(1+np.exp(-(np.dot(l22,syn2))))\n",
    "    l33 = np.column_stack((l3,b))\n",
    "    \n",
    "    l4 = np.dot(l33,syn3) \n",
    "    \n",
    "    l4_delta = (y - l4)\n",
    "    l3_delta = l4_delta.dot(syn3.T)*(l33*(1-l33))\n",
    "    l33_delta = np.delete(l3_delta, -1, axis=1)\n",
    "    \n",
    "    \n",
    "    l2_delta = l33_delta.dot(syn2.T)*(l22*(1-l22))\n",
    "    l22_delta = np.delete(l2_delta, -1, axis=1)\n",
    "    \n",
    "    l1_delta = l22_delta.dot(syn1.T) * (l11 * (1-l11))\n",
    "    l11_delta = np.delete(l1_delta, -1, axis=1)\n",
    "    \n",
    "    syn3 += 0.1*l33.T.dot(l4_delta)\n",
    "    syn2 += 0.1*l22.T.dot(l33_delta)\n",
    "    syn1 += 0.1*l11.T.dot(l22_delta)\n",
    "    syn0 += 0.1*X.T.dot(l11_delta)\n",
    "    \n",
    "\n",
    "print(l4)"
   ]
  },
  {
   "cell_type": "code",
   "execution_count": 10,
   "metadata": {},
   "outputs": [
    {
     "name": "stdout",
     "output_type": "stream",
     "text": [
      "[[4.10398135]\n",
      " [7.31641756]\n",
      " [4.67068577]\n",
      " [7.4571145 ]]\n"
     ]
    }
   ],
   "source": [
    "X = np.array([ [0.15,0.3],[0.4,0.3],[0.7,0.3],[0.8,0.3]])\n",
    "\n",
    "l1 = 1/(1+np.exp(-(np.dot(X,syn0))))\n",
    "l11 = np.column_stack((l1,b))\n",
    "    \n",
    "l2 = 1/(1+np.exp(-(np.dot(l11,syn1))))\n",
    "l22= np.column_stack((l2,b))\n",
    "    \n",
    "l3 = 1/(1+np.exp(-(np.dot(l22,syn2))))\n",
    "l33 = np.column_stack((l3,b))\n",
    "    \n",
    "l4 = np.dot(l33,syn3) \n",
    "\n",
    "print l4"
   ]
  },
  {
   "cell_type": "code",
   "execution_count": null,
   "metadata": {},
   "outputs": [],
   "source": []
  },
  {
   "cell_type": "code",
   "execution_count": null,
   "metadata": {},
   "outputs": [],
   "source": []
  }
 ],
 "metadata": {
  "kernelspec": {
   "display_name": "Python 3",
   "language": "python",
   "name": "python3"
  },
  "language_info": {
   "codemirror_mode": {
    "name": "ipython",
    "version": 3
   },
   "file_extension": ".py",
   "mimetype": "text/x-python",
   "name": "python",
   "nbconvert_exporter": "python",
   "pygments_lexer": "ipython3",
   "version": "3.6.5"
  }
 },
 "nbformat": 4,
 "nbformat_minor": 2
}
