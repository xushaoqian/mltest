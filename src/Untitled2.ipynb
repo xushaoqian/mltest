{
 "cells": [
  {
   "cell_type": "code",
   "execution_count": 4,
   "metadata": {
    "scrolled": true
   },
   "outputs": [],
   "source": [
    "import numpy as np \n",
    "\n",
    " \n",
    "syn0 = 2*np.random.random((1,30)) - 1\n",
    "syn1 = 2*np.random.random((30,30)) - 1\n",
    "syn2 = 2*np.random.random((30,30)) - 1\n",
    "syn3 = 2*np.random.random((30,1)) - 1\n"
   ]
  },
  {
   "cell_type": "code",
   "execution_count": 5,
   "metadata": {},
   "outputs": [
    {
     "name": "stdout",
     "output_type": "stream",
     "text": [
      "[[-5.362103420984431e+17]\n",
      " [-53.084823867745904]\n",
      " [0.0]\n",
      " [38.19072714132684]\n",
      " [3.85764920619463e+20]]\n"
     ]
    }
   ],
   "source": [
    "X = np.array([ [-111111111111111111],[-11],[0],[11],[111111111111111111111]])\n",
    "\n",
    "l1 = np.dot(X,syn0)\n",
    "l1 = np.maximum(l1,  0.0) \n",
    "    \n",
    "    \n",
    "l2 = np.dot(l1,syn1)\n",
    "l2 = np.maximum(l2,  0.0) \n",
    "    \n",
    "l3 = np.dot(l2,syn2)\n",
    "l3 = np.maximum(l3,  0.0) \n",
    "    \n",
    "l4 = np.dot(l3,syn3) \n",
    "    \n",
    "\n",
    "print l4"
   ]
  },
  {
   "cell_type": "code",
   "execution_count": null,
   "metadata": {
    "collapsed": true
   },
   "outputs": [],
   "source": []
  }
 ],
 "metadata": {
  "kernelspec": {
   "display_name": "Python 3",
   "language": "python",
   "name": "python3"
  },
  "language_info": {
   "codemirror_mode": {
    "name": "ipython",
    "version": 3
   },
   "file_extension": ".py",
   "mimetype": "text/x-python",
   "name": "python",
   "nbconvert_exporter": "python",
   "pygments_lexer": "ipython3",
   "version": "3.6.5"
  }
 },
 "nbformat": 4,
 "nbformat_minor": 2
}
