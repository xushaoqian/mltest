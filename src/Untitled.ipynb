{
 "cells": [
  {
   "cell_type": "code",
   "execution_count": 5,
   "metadata": {
    "scrolled": false
   },
   "outputs": [
    {
     "name": "stdout",
     "output_type": "stream",
     "text": [
      "[[ 0.47214876  0.47214375  0.47214458  0.47214438  0.47214449  0.31041971\n",
      "   0.47214423  0.52785403  0.52785443  0.4721442   0.52785398  0.52785509]\n",
      " [ 0.36410251  0.36407923  0.3640831   0.36408215  0.36408267  0.01814962\n",
      "   0.36408147  0.63591048  0.63591231  0.3640813   0.63591021  0.63591537]\n",
      " [ 0.26821782  0.2681823   0.26818821  0.26818676  0.26818755  0.00075849\n",
      "   0.26818571  0.731802    0.73180478  0.26818546  0.73180159  0.73180945]]\n",
      "[[ 0.06575379]\n",
      " [ 0.89329384]\n",
      " [ 0.08146764]]\n"
     ]
    }
   ],
   "source": [
    "import numpy as np\n",
    "\n",
    "X = np.array([[0.1],[0.5],[0.9]])\n",
    "y = np.array([[0,1,0]]).T\n",
    "syn0 = 2*np.random.random((1,12)) - 1\n",
    "syn1 = 2*np.random.random((12,1)) - 1\n",
    "\n",
    "\n",
    "\n",
    "for j in range(10000):\n",
    "    l1 = 1/(1+np.exp(-(np.dot(X,syn0))))\n",
    "    l2 = 1/(1+np.exp(-(np.dot(l1,syn1))))\n",
    "    \n",
    "    l2_delta = (y - l2)*(l2*(1-l2))\n",
    "    l1_delta = l2_delta.dot(syn1.T) * (l1 * (1-l1))\n",
    "    \n",
    "    syn1 += l1.T.dot(l2_delta)\n",
    "    syn0 += X.T.dot(l1_delta)\n",
    "    \n",
    "    \n",
    "print(l1)\n",
    "print(l2)"
   ]
  },
  {
   "cell_type": "code",
   "execution_count": 237,
   "metadata": {},
   "outputs": [
    {
     "name": "stdout",
     "output_type": "stream",
     "text": [
      "[[ 7.52130559  1.22913824]]\n",
      "[[ 25.6679698 ]\n",
      " [-36.45977897]]\n"
     ]
    }
   ],
   "source": [
    "print syn0\n",
    "print syn1"
   ]
  },
  {
   "cell_type": "code",
   "execution_count": null,
   "metadata": {
    "collapsed": true
   },
   "outputs": [],
   "source": []
  },
  {
   "cell_type": "code",
   "execution_count": null,
   "metadata": {
    "collapsed": true
   },
   "outputs": [],
   "source": []
  },
  {
   "cell_type": "code",
   "execution_count": null,
   "metadata": {
    "collapsed": true
   },
   "outputs": [],
   "source": []
  }
 ],
 "metadata": {
  "kernelspec": {
   "display_name": "Python 3",
   "language": "python",
   "name": "python3"
  },
  "language_info": {
   "codemirror_mode": {
    "name": "ipython",
    "version": 3
   },
   "file_extension": ".py",
   "mimetype": "text/x-python",
   "name": "python",
   "nbconvert_exporter": "python",
   "pygments_lexer": "ipython3",
   "version": "3.5.4"
  }
 },
 "nbformat": 4,
 "nbformat_minor": 2
}
