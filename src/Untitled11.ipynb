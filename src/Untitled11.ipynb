{
 "cells": [
  {
   "cell_type": "code",
   "execution_count": 63,
   "metadata": {},
   "outputs": [
    {
     "name": "stdout",
     "output_type": "stream",
     "text": [
      "[[ 43.99945831   2.99562001   2.99183607   4.00132942]\n",
      " [  4.00979948  33.0275116   13.00525761  64.02523041]\n",
      " [ 73.94109344  62.99327469  72.99807739  93.99253845]\n",
      " [ 13.99605274   3.02497959  33.01667404  41.02381516]]\n"
     ]
    }
   ],
   "source": [
    "import numpy as np\n",
    "from keras.utils import np_utils\n",
    "import tensorflow as tf\n",
    "from keras.models import Sequential\n",
    "from keras.layers.core import Dense, Activation, Flatten\n",
    "\n",
    "X = np.array([[0,0],[0,1],[1,0],[1,1]]).astype('float32')\n",
    "y = np.array([[44,3,3,4],[4,33,13,64],[74,63,73,94],[14,3,33,41]]).astype('float32')\n",
    "\n",
    "model = Sequential()\n",
    "model.add(Dense(32, input_dim=2))\n",
    "model.add(Activation(\"relu\"))\n",
    "model.add(Dense(32))\n",
    "model.add(Activation(\"relu\"))\n",
    "model.add(Dense(4))\n",
    "model.compile(loss=\"mean_absolute_error\", optimizer=\"adam\", metrics = ['accuracy'])\n",
    "\n",
    "history = model.fit(X, y, epochs=10000, verbose=0)\n",
    "print(model.predict(X))\n"
   ]
  },
  {
   "cell_type": "code",
   "execution_count": 62,
   "metadata": {},
   "outputs": [
    {
     "name": "stdout",
     "output_type": "stream",
     "text": [
      "[[  58.67420959   47.59828568   51.10503387   73.62433624]\n",
      " [   5.17925644    7.86434174   88.98207092  113.52604675]\n",
      " [ 275.37261963  280.62106323  332.46847534  436.20141602]\n",
      " [  68.36287689   63.29825974   70.63109589   96.68739319]]\n"
     ]
    }
   ],
   "source": [
    "test = np.array([[10.1,10.1],[333.1,31.1],[113.1,40.1],[14.1,11.1]]).astype('float32')\n",
    "print(model.predict(test))"
   ]
  },
  {
   "cell_type": "code",
   "execution_count": null,
   "metadata": {},
   "outputs": [],
   "source": []
  }
 ],
 "metadata": {
  "kernelspec": {
   "display_name": "Python 3",
   "language": "python",
   "name": "python3"
  },
  "language_info": {
   "codemirror_mode": {
    "name": "ipython",
    "version": 3
   },
   "file_extension": ".py",
   "mimetype": "text/x-python",
   "name": "python",
   "nbconvert_exporter": "python",
   "pygments_lexer": "ipython3",
   "version": "3.5.4"
  }
 },
 "nbformat": 4,
 "nbformat_minor": 2
}
