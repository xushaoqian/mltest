{
 "cells": [
  {
   "cell_type": "code",
   "execution_count": 3,
   "metadata": {},
   "outputs": [
    {
     "name": "stdout",
     "output_type": "stream",
     "text": [
      "[[ 1.01709947]\n",
      " [-0.01933895]\n",
      " [ 1.01364918]\n",
      " [-0.00647289]]\n"
     ]
    }
   ],
   "source": [
    "import numpy as np \n",
    "\n",
    "X = np.array([ [0,1],[1,1],[1,0],[0,0]])\n",
    "y = np.array([[1,0,1,0]]).T\n",
    "\n",
    "syn0 = 2*np.random.random((2,30)) - 1\n",
    "syn1 = 2*np.random.random((31,30)) - 1\n",
    "syn2 = 2*np.random.random((31,30)) - 1\n",
    "syn3 = 2*np.random.random((31,1)) - 1\n",
    "\n",
    "b = np.ones(4)\n",
    "\n",
    "for j in range(10000):\n",
    "    l1 = np.dot(X,syn0)\n",
    "    l1 = np.maximum(l1,  0.0)\n",
    "    l11 = np.column_stack((l1,b))\n",
    "    \n",
    "    \n",
    "    l2 = np.dot(l11,syn1)\n",
    "    l2 = np.maximum(l2,  0.0)\n",
    "    l22= np.column_stack((l2,b))\n",
    "    \n",
    "    l3 = np.dot(l22,syn2)\n",
    "    l3 = np.maximum(l3,  0.0)\n",
    "    l33 = np.column_stack((l3,b))\n",
    "    \n",
    "    l4 = np.dot(l33,syn3) \n",
    "    \n",
    "\n",
    "    \n",
    "    l4_delta = (y - l4)\n",
    "    \n",
    "    l3_delta = l4_delta.dot(syn3.T)\n",
    "    l33_delta = np.delete(l3_delta, -1, axis=1)\n",
    "    #l33_delta[l3 < 0] = 0.0\n",
    "    \n",
    "    l2_delta = l33_delta.dot(syn2.T)\n",
    "    l22_delta = np.delete(l2_delta, -1, axis=1)\n",
    "    #l22_delta[l2 < 0] = 0.0\n",
    "    \n",
    "    l1_delta = l22_delta.dot(syn1.T)\n",
    "    l11_delta = np.delete(l1_delta, -1, axis=1)\n",
    "    #l11_delta[l1 < 0] = 0.0\n",
    "    \n",
    "    syn3 += 0.00001*l33.T.dot(l4_delta)\n",
    "    syn2 += 0.00001*l22.T.dot(l33_delta)\n",
    "    syn1 += 0.00001*l11.T.dot(l22_delta)\n",
    "    syn0 += 0.00001*X.T.dot(l11_delta)\n",
    "    \n",
    "print(l4)"
   ]
  },
  {
   "cell_type": "code",
   "execution_count": 4,
   "metadata": {},
   "outputs": [
    {
     "ename": "SyntaxError",
     "evalue": "Missing parentheses in call to 'print'. Did you mean print(l4)? (<ipython-input-4-c766adeb4008>, line 17)",
     "output_type": "error",
     "traceback": [
      "\u001b[0;36m  File \u001b[0;32m\"<ipython-input-4-c766adeb4008>\"\u001b[0;36m, line \u001b[0;32m17\u001b[0m\n\u001b[0;31m    print l4\u001b[0m\n\u001b[0m           ^\u001b[0m\n\u001b[0;31mSyntaxError\u001b[0m\u001b[0;31m:\u001b[0m Missing parentheses in call to 'print'. Did you mean print(l4)?\n"
     ]
    }
   ],
   "source": [
    "X = np.array([ [1,0.3],[2.2,0.3],[3.6,0.3],[4.9,0.3]])\n",
    "\n",
    "l1 = np.dot(X,syn0)\n",
    "l1 = np.maximum(l1,  0.0)\n",
    "l11 = np.column_stack((l1,b))\n",
    "    \n",
    "l2 = np.dot(l11,syn1)\n",
    "l2 = np.maximum(l2,  0.0)\n",
    "l22= np.column_stack((l2,b))\n",
    "    \n",
    "l3 = np.dot(l22,syn2)\n",
    "l3 = np.maximum(l3,  0.0)\n",
    "l33 = np.column_stack((l3,b))\n",
    "    \n",
    "l4 = np.dot(l33,syn3) \n",
    "\n",
    "print l4"
   ]
  },
  {
   "cell_type": "code",
   "execution_count": null,
   "metadata": {},
   "outputs": [],
   "source": []
  }
 ],
 "metadata": {
  "kernelspec": {
   "display_name": "Python 3",
   "language": "python",
   "name": "python3"
  },
  "language_info": {
   "codemirror_mode": {
    "name": "ipython",
    "version": 3
   },
   "file_extension": ".py",
   "mimetype": "text/x-python",
   "name": "python",
   "nbconvert_exporter": "python",
   "pygments_lexer": "ipython3",
   "version": "3.6.5"
  }
 },
 "nbformat": 4,
 "nbformat_minor": 2
}
